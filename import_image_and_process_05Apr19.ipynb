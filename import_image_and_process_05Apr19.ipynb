{
  "nbformat": 4,
  "nbformat_minor": 0,
  "metadata": {
    "colab": {
      "name": "import_image_and_process_05Apr19.ipynb",
      "version": "0.3.2",
      "provenance": [],
      "collapsed_sections": [],
      "include_colab_link": true
    },
    "kernelspec": {
      "name": "python3",
      "display_name": "Python 3"
    }
  },
  "cells": [
    {
      "cell_type": "markdown",
      "metadata": {
        "id": "view-in-github",
        "colab_type": "text"
      },
      "source": [
        "<a href=\"https://colab.research.google.com/github/TensorFlowing/Deep-Learning-Experiments/blob/master/import_image_and_process_05Apr19.ipynb\" target=\"_parent\"><img src=\"https://colab.research.google.com/assets/colab-badge.svg\" alt=\"Open In Colab\"/></a>"
      ]
    },
    {
      "metadata": {
        "id": "-i1yR2IdtfOn",
        "colab_type": "code",
        "colab": {}
      },
      "cell_type": "code",
      "source": [
        "# Method 1: Upload image from local directory and view it on CoLab\n",
        "\n",
        "## Step 1: Upload the file\n",
        "from google.colab import files\n",
        "# 'upload' method returns a dictionary of filenames uploaded\n",
        "uploaded = files.upload() \n",
        "# loop over all filenames (uploaded is a dictionary keyed with filenames)\n",
        "for fn in uploaded.keys():\n",
        "  print('User uploaded file \"{name}\" with length {length} bytes'.format(\n",
        "      name=fn, length=len(uploaded[fn])))\n",
        "\n",
        "## Step 2: Check if image was uploaded\n",
        "import os\n",
        "!ls\n",
        "os.getcwd()\n",
        "\n",
        "## Step 3: View the image\n",
        "import matplotlib.pyplot as plt\n",
        "import cv2\n",
        "items = os.listdir('/content')\n",
        "# /content is the root folder of Google Colab \n",
        "for each_image in items:\n",
        "  if each_image.endswith(\".jpg\"):\n",
        "    print (each_image)\n",
        "    full_path = \"/content/\" + each_image\n",
        "    print (full_path)\n",
        "    image = cv2.imread(full_path)\n",
        "    image = cv2.cvtColor(image,cv2.COLOR_BGR2RGB)\n",
        "plt.figure()\n",
        "plt.imshow(image)\n",
        "plt.colorbar()\n",
        "plt.grid(False)"
      ],
      "execution_count": 0,
      "outputs": []
    },
    {
      "metadata": {
        "id": "-V58sJ3RzO5X",
        "colab_type": "code",
        "colab": {}
      },
      "cell_type": "code",
      "source": [
        "# Method 2: Load image from Internet\n",
        "\n",
        "import cv2\n",
        "import numpy as np\n",
        "from matplotlib import pyplot as plt\n",
        "!wget \"https://www.gstatic.com/webp/gallery/1.jpg\"\n",
        "img = cv2.imread(\"1.jpg\")\n",
        "img_cvt=cv2.cvtColor(img, cv2.COLOR_BGR2RGB)\n",
        "plt.imshow(img_cvt)\n",
        "plt.show()"
      ],
      "execution_count": 0,
      "outputs": []
    }
  ]
}